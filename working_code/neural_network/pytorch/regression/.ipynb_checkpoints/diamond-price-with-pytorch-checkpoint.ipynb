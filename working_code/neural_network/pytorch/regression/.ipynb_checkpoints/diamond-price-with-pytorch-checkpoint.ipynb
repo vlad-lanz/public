{
 "cells": [
  {
   "cell_type": "code",
   "execution_count": 1,
   "id": "cd3ef4f8",
   "metadata": {
    "execution": {
     "iopub.execute_input": "2022-08-28T17:10:35.857015Z",
     "iopub.status.busy": "2022-08-28T17:10:35.856683Z",
     "iopub.status.idle": "2022-08-28T17:10:38.882865Z",
     "shell.execute_reply": "2022-08-28T17:10:38.881732Z"
    },
    "papermill": {
     "duration": 3.036864,
     "end_time": "2022-08-28T17:10:38.885090",
     "exception": false,
     "start_time": "2022-08-28T17:10:35.848226",
     "status": "completed"
    },
    "tags": []
   },
   "outputs": [],
   "source": [
    "from sklearn.datasets import load_breast_cancer\n",
    "import warnings\n",
    "warnings.filterwarnings(\"ignore\")\n",
    "import pandas as pd\n",
    "import numpy as np\n",
    "\n",
    "from sklearn.preprocessing import StandardScaler\n",
    "from sklearn.model_selection import train_test_split \n",
    "\n",
    "import seaborn as sns\n",
    "import matplotlib.pyplot as plt\n",
    "plt.style.use('ggplot')\n",
    "plt.rc(\"font\", size=14)\n",
    "\n",
    "import torch\n",
    "import torch.nn as nn\n",
    "import torch.nn.functional as F\n",
    "from sklearn.utils import shuffle\n",
    "from torch.autograd import Variable\n",
    "\n",
    "from sklearn.metrics import roc_auc_score\n",
    "import itertools\n",
    "\n",
    "from sklearn.ensemble import RandomForestRegressor\n",
    "from sklearn.metrics import r2_score"
   ]
  },
  {
   "cell_type": "markdown",
   "id": "d9e91c61",
   "metadata": {
    "papermill": {
     "duration": 0.005852,
     "end_time": "2022-08-28T17:10:38.897582",
     "exception": false,
     "start_time": "2022-08-28T17:10:38.891730",
     "status": "completed"
    },
    "tags": []
   },
   "source": [
    "# Data"
   ]
  },
  {
   "cell_type": "code",
   "execution_count": 2,
   "id": "16991065",
   "metadata": {
    "execution": {
     "iopub.execute_input": "2022-08-28T17:10:38.912125Z",
     "iopub.status.busy": "2022-08-28T17:10:38.911103Z",
     "iopub.status.idle": "2022-08-28T17:10:39.006666Z",
     "shell.execute_reply": "2022-08-28T17:10:39.005581Z"
    },
    "papermill": {
     "duration": 0.105403,
     "end_time": "2022-08-28T17:10:39.009029",
     "exception": false,
     "start_time": "2022-08-28T17:10:38.903626",
     "status": "completed"
    },
    "tags": []
   },
   "outputs": [],
   "source": [
    "data_row = pd.read_csv('../input/diamonds-prices/Diamonds Prices2022.csv') "
   ]
  },
  {
   "cell_type": "code",
   "execution_count": 3,
   "id": "3c7f4d93",
   "metadata": {
    "execution": {
     "iopub.execute_input": "2022-08-28T17:10:39.022887Z",
     "iopub.status.busy": "2022-08-28T17:10:39.022619Z",
     "iopub.status.idle": "2022-08-28T17:10:39.040090Z",
     "shell.execute_reply": "2022-08-28T17:10:39.039134Z"
    },
    "papermill": {
     "duration": 0.026481,
     "end_time": "2022-08-28T17:10:39.042054",
     "exception": false,
     "start_time": "2022-08-28T17:10:39.015573",
     "status": "completed"
    },
    "tags": []
   },
   "outputs": [],
   "source": [
    "data_row.drop(['Unnamed: 0'], axis=1, inplace=True)"
   ]
  },
  {
   "cell_type": "markdown",
   "id": "e6af154c",
   "metadata": {
    "papermill": {
     "duration": 0.005921,
     "end_time": "2022-08-28T17:10:39.054304",
     "exception": false,
     "start_time": "2022-08-28T17:10:39.048383",
     "status": "completed"
    },
    "tags": []
   },
   "source": [
    "<img src=\"https://imgur.com/LqVrupH.jpg\" width=\"600\">"
   ]
  },
  {
   "cell_type": "markdown",
   "id": "e6aa6ae3",
   "metadata": {
    "papermill": {
     "duration": 0.005841,
     "end_time": "2022-08-28T17:10:39.066361",
     "exception": false,
     "start_time": "2022-08-28T17:10:39.060520",
     "status": "completed"
    },
    "tags": []
   },
   "source": [
    "**price** price in US dollars (\\$326--\\$18,823)\n",
    "\n",
    "**carat** weight of the diamond (0.2--5.01)\n",
    "\n",
    "**cut** quality of the cut (Fair, Good, Very Good, Premium, Ideal)\n",
    "\n",
    "**color** diamond colour, from J (worst) to D (best)\n",
    "\n",
    "**clarity** a measurement of how clear the diamond is (I1 (worst), SI2, SI1, VS2, VS1, VVS2, VVS1, IF (best))\n",
    "\n",
    "**x** length in mm (0--10.74)\n",
    "\n",
    "**y** width in mm (0--58.9)\n",
    "\n",
    "**z** depth in mm (0--31.8)\n",
    "\n",
    "**depth** total depth percentage = z / mean(x, y) = 2 * z / (x + y) (43--79)\n",
    "\n",
    "**table** width of top of diamond relative to widest point (43--95)"
   ]
  },
  {
   "cell_type": "code",
   "execution_count": 4,
   "id": "da2a3ea5",
   "metadata": {
    "execution": {
     "iopub.execute_input": "2022-08-28T17:10:39.080795Z",
     "iopub.status.busy": "2022-08-28T17:10:39.080109Z",
     "iopub.status.idle": "2022-08-28T17:10:39.101352Z",
     "shell.execute_reply": "2022-08-28T17:10:39.100457Z"
    },
    "papermill": {
     "duration": 0.030569,
     "end_time": "2022-08-28T17:10:39.103109",
     "exception": false,
     "start_time": "2022-08-28T17:10:39.072540",
     "status": "completed"
    },
    "tags": []
   },
   "outputs": [
    {
     "name": "stdout",
     "output_type": "stream",
     "text": [
      "--------------------------------------------------\n",
      "cut: \n",
      "\n",
      " Ideal,  Premium,  Good,  Very Good,  Fair \n",
      "\n",
      "--------------------------------------------------\n",
      "color: \n",
      "\n",
      " E,  I,  J,  H,  F,  G,  D \n",
      "\n",
      "--------------------------------------------------\n",
      "clarity: \n",
      "\n",
      " SI2,  SI1,  VS1,  VS2,  VVS2,  VVS1,  I1,  IF \n",
      "\n",
      "--------------------------------------------------\n"
     ]
    }
   ],
   "source": [
    "object_columns = data_row.select_dtypes(include='object').columns\n",
    "\n",
    "for col in object_columns:\n",
    "    print('-'*50)\n",
    "    print(col+':', '\\n\\n', ',  '.join(data_row[col].unique()), '\\n')\n",
    "print('-'*50)"
   ]
  },
  {
   "cell_type": "markdown",
   "id": "3dc369ff",
   "metadata": {
    "papermill": {
     "duration": 0.005994,
     "end_time": "2022-08-28T17:10:39.115638",
     "exception": false,
     "start_time": "2022-08-28T17:10:39.109644",
     "status": "completed"
    },
    "tags": []
   },
   "source": [
    "### Diamond cut grade:\n",
    "\n",
    "<img src=\"https://imgur.com/ppd6912.jpg\" width=\"800\">\n",
    "\n",
    "1) **Excellent:**  \tExcellent Cut Diamonds provide the highest level of fire and brilliance. Because almost all of the incoming light is reflected through the table, the diamond radiates with magnificent sparkle.\n",
    "\n",
    "2) **Very Good:**  Very Good Cut Diamonds offer exceptional brilliance and fire. A large majority of the entering light reflects through the diamond’s table. To the naked eye, Very Good diamonds provide similar sparkle to those of Excellent grade.\n",
    "\n",
    "3) **Good:**  Good Cut Diamonds showcase brilliance and sparkle, with much of the light reflecting through the table to the viewer’s eye. These diamonds provide beauty at a lower price point.\n",
    "\n",
    "4) **Fair:**  Fair Cut Diamonds offer little brilliance, as light easily exits through the bottom and sides of the diamond. Diamonds of a Fair Cut may be a satisfactory choice for smaller carats and those acting as side stones.\n",
    "\n",
    "5) **Poor:**  Poor Cut Diamonds yield nearly no sparkle, brilliance or fire. Entering light escapes from the sides and bottom of the diamond.\n",
    "\n",
    "Learn more about diamond cut: https://www.diamonds.pro/education/cuts/\n",
    "\n",
    " \n",
    " \n",
    "\n",
    "So, we have quality of the cut: **Fair < Good < Very Good < Premium < Ideal**"
   ]
  },
  {
   "cell_type": "markdown",
   "id": "f50f4315",
   "metadata": {
    "papermill": {
     "duration": 0.006545,
     "end_time": "2022-08-28T17:10:39.128437",
     "exception": false,
     "start_time": "2022-08-28T17:10:39.121892",
     "status": "completed"
    },
    "tags": []
   },
   "source": [
    "### Diamond color grade:\n",
    "\n",
    "<img src=\"https://imgur.com/97Txyxi.jpg\" width=\"800\">\n",
    "\n",
    "1) **D:**  \tD is the highest color grade, meaning it has nearly no color. Under magnification and to the naked eye, a D color diamond will appear colorless.\n",
    "\n",
    "2) **E:**  \tE color diamonds look almost identical to D color diamonds. Most of the time, the differences in color between a D and E diamond are only visible to an expert gemologist when the two diamonds are viewed under magnification.\n",
    "\n",
    "3) **F:**  F color diamonds are almost identical to D and E color diamonds, with nearly no visible color. Even under magnification and side by side, a D, E and F diamond will look almost identical to anyone other than an expert gemologist.\n",
    "\n",
    "4) **G:**  \tG color diamonds exhibit nearly no color and appear primarily colorless to the naked eye. The G color grade is the highest, best grade in the “Near Colorless” range of the GIA’s scale, which covers diamonds graded G to J.\n",
    "\n",
    "5) **H:**  H color diamonds appear primarily colorless to the naked eye but have a faint yellow hue that’s often visible under magnification in bright lighting, especially when they’re compared to diamonds of a higher color grade.\n",
    "\n",
    "3) **I:**  I color diamonds offer a great combination of near colorless looks and good value for money. These diamonds have a slight yellow tint that’s usually only visible when they’re viewed next to diamonds of a higher color grade.\n",
    "\n",
    "4) **J:**  J color diamonds look mostly colorless to the naked eye, but usually have a faint yellow tint that’s easy to notice under bright lights and magnification. In diamonds with a large table, the color might also be visible with the naked eye in certain lighting conditions.\n",
    "\n",
    "5) **K:**  K color diamonds are classed as “faint tint” on the GIA’s diamond color scale, meaning they have a slight yellow tint that’s visible even to the naked eye.\n",
    "\n",
    "5) **L:**  L color diamonds have a yellow tint that’s visible to the naked eye in normal lighting conditions. Diamonds with this color grade are much more affordable than those in the G to J range, making them a good value for money option.\n",
    "\n",
    "3) **M:**  M color diamonds have a definite yellow tint that’s visible to the naked eye. Like K and L diamonds, M color diamonds offer fantastic value for money when compared to near colorless or colorless diamonds.\n",
    "\n",
    "4) **N-R:**  Diamonds in the N to R range have noticeable yellow or brown tinting. These diamonds are available at a much lower price point than faintly tinted or near colorless diamonds. We do not recommend diamonds of an N-R grade.\n",
    "\n",
    "5) **S-Z:**  Diamonds of an S-Z range have easily noticeable yellow or brown tinting. For this reason, We do not recommend S-Z diamonds.\n",
    "\n",
    "Learn more about diamond color: https://www.diamonds.pro/education/color/\n",
    "\n",
    "\n",
    "\n",
    "So, we have diamond colour, from J (worst) to D (best): **J < I < H < G < F < E < D**"
   ]
  },
  {
   "cell_type": "markdown",
   "id": "e6fb7c83",
   "metadata": {
    "papermill": {
     "duration": 0.006075,
     "end_time": "2022-08-28T17:10:39.140702",
     "exception": false,
     "start_time": "2022-08-28T17:10:39.134627",
     "status": "completed"
    },
    "tags": []
   },
   "source": [
    "### Diamond clarity grade:\n",
    "\n",
    "<img src=\"https://imgur.com/NErG1AE.jpg\" width=\"800\">\n",
    "\n",
    "1) **IF:**  Internally Flawless / Flawless – No internal or external imperfections. Flawless diamonds are extremely rare.\n",
    "\n",
    "2) **VVS1:**  Very Very Slightly Included (1st Degree) – Diamond clarity inclusions rated VVS1 are not visible at all under 10x magnification.\n",
    "\n",
    "3) **VVS2:**  Very Very Slightly Included (2nd Degree) – Diamond clarity inclusions rated VVS2 are sometimes just barely visible under 10x magnification (standard jeweler’s loupe). When they are visible, they are quite difficult to find and can often take quite a while to locate.\n",
    "\n",
    "4) **VS1:**  Very Slightly Included (1st Degree) – VS1 diamond clarity inclusions are just barely visible under 10x magnification (standard jeweler’s loupe). When looking for VS1 clarity inclusions with a loupe, it can sometimes take a good few seconds until the pinpoint is located.\n",
    "\n",
    "5) **VS2:**  Very Slightly Included (2nd Degree) – VS2 clarity inclusions are almost always easily noticeable at 10x magnification (standard jeweler’s loupe). Occasionally, the inclusion will be located in a difficult-to-spot location, but otherwise, the inclusion is large enough that it can be spotted quickly under magnification.\n",
    "\n",
    "3) **SI1:**  Slightly Included (1st Degree) – SI1 Clarity inclusions are easily found with a standard jeweler’s loupe at 10x magnification. With most shapes (to the exclusion of step cuts like Asscher and Emerald Cuts), SI1 clarity inclusions are almost always clean to the naked eye.\n",
    "\n",
    "4) **SI2:**  Slightly Included (2nd Degree) – SI2 clarity inclusions are seen clearly and obviously with the help of a jeweler’s loupe. With step cuts like Emerald and Asscher cuts, an SI2 clarity inclusion will most likely be visible to the naked eye.\n",
    "\n",
    "5) **I1:**  Included (1st Degree) – I1 clarity inclusions are even more obvious and clearly seen than SI2 clarity inclusions. Most I1 inclusions are visible to the naked eye—even on brilliant cuts.\n",
    "\n",
    "5) **I2-I3:** Included (2st-3st Degree) - I2, I3 clarity represents the lowest official clarity grade for a diamond. \n",
    "\n",
    "Learn more about diamond clarity: https://www.diamonds.pro/education/clarity/\n",
    "\n",
    "\n",
    "\n",
    "\n",
    "So, we have diamond clarity, from I1 (worst) to IF (best): **I1 < SI2 < SI1 < VS2 < VS1 < VVS2 < VVS1 < IF**"
   ]
  },
  {
   "cell_type": "markdown",
   "id": "32e62a58",
   "metadata": {
    "papermill": {
     "duration": 0.006106,
     "end_time": "2022-08-28T17:10:39.153176",
     "exception": false,
     "start_time": "2022-08-28T17:10:39.147070",
     "status": "completed"
    },
    "tags": []
   },
   "source": [
    "# Feature Engineering"
   ]
  },
  {
   "cell_type": "code",
   "execution_count": 5,
   "id": "5f82f0b8",
   "metadata": {
    "execution": {
     "iopub.execute_input": "2022-08-28T17:10:39.167646Z",
     "iopub.status.busy": "2022-08-28T17:10:39.167092Z",
     "iopub.status.idle": "2022-08-28T17:10:39.171318Z",
     "shell.execute_reply": "2022-08-28T17:10:39.170387Z"
    },
    "papermill": {
     "duration": 0.013525,
     "end_time": "2022-08-28T17:10:39.173144",
     "exception": false,
     "start_time": "2022-08-28T17:10:39.159619",
     "status": "completed"
    },
    "tags": []
   },
   "outputs": [],
   "source": [
    "categorical = ['cut', 'color', 'clarity']\n",
    "numerical =  [x for x in data_row.columns if x not in categorical + ['price']]"
   ]
  },
  {
   "cell_type": "code",
   "execution_count": 6,
   "id": "c7afc53c",
   "metadata": {
    "execution": {
     "iopub.execute_input": "2022-08-28T17:10:39.187213Z",
     "iopub.status.busy": "2022-08-28T17:10:39.186677Z",
     "iopub.status.idle": "2022-08-28T17:10:39.213406Z",
     "shell.execute_reply": "2022-08-28T17:10:39.212751Z"
    },
    "papermill": {
     "duration": 0.03587,
     "end_time": "2022-08-28T17:10:39.215321",
     "exception": false,
     "start_time": "2022-08-28T17:10:39.179451",
     "status": "completed"
    },
    "tags": []
   },
   "outputs": [],
   "source": [
    "data_row = pd.get_dummies(data_row, columns=categorical)"
   ]
  },
  {
   "cell_type": "code",
   "execution_count": 7,
   "id": "ea579422",
   "metadata": {
    "execution": {
     "iopub.execute_input": "2022-08-28T17:10:39.230016Z",
     "iopub.status.busy": "2022-08-28T17:10:39.229549Z",
     "iopub.status.idle": "2022-08-28T17:10:39.237879Z",
     "shell.execute_reply": "2022-08-28T17:10:39.237204Z"
    },
    "papermill": {
     "duration": 0.017733,
     "end_time": "2022-08-28T17:10:39.239468",
     "exception": false,
     "start_time": "2022-08-28T17:10:39.221735",
     "status": "completed"
    },
    "tags": []
   },
   "outputs": [],
   "source": [
    "data_row['xyz'] = data_row['x'] * data_row['y'] * data_row['z']\n",
    "data_row['table_xy'] = (data_row['table'].mean()*(data_row['x']*data_row['y']).mean()-data_row['table']*(data_row['x']*data_row['y']))\n",
    "data_row['depth_z'] = (data_row['depth'].mean()*data_row['z'].mean()-data_row['depth']*data_row['z'])"
   ]
  },
  {
   "cell_type": "code",
   "execution_count": 8,
   "id": "4bb3c79a",
   "metadata": {
    "execution": {
     "iopub.execute_input": "2022-08-28T17:10:39.254355Z",
     "iopub.status.busy": "2022-08-28T17:10:39.253923Z",
     "iopub.status.idle": "2022-08-28T17:10:39.276359Z",
     "shell.execute_reply": "2022-08-28T17:10:39.275710Z"
    },
    "papermill": {
     "duration": 0.032333,
     "end_time": "2022-08-28T17:10:39.278293",
     "exception": false,
     "start_time": "2022-08-28T17:10:39.245960",
     "status": "completed"
    },
    "tags": []
   },
   "outputs": [],
   "source": [
    "scale_feats = [col for col in data_row.columns if data_row[col].dtypes == 'float64']\n",
    "scaler = StandardScaler()\n",
    "\n",
    "data_row_scaled = data_row.copy()\n",
    "data_row_scaled[scale_feats] = scaler.fit_transform(data_row[scale_feats])"
   ]
  },
  {
   "cell_type": "code",
   "execution_count": 9,
   "id": "03499739",
   "metadata": {
    "execution": {
     "iopub.execute_input": "2022-08-28T17:10:39.292668Z",
     "iopub.status.busy": "2022-08-28T17:10:39.292349Z",
     "iopub.status.idle": "2022-08-28T17:10:39.312291Z",
     "shell.execute_reply": "2022-08-28T17:10:39.311680Z"
    },
    "papermill": {
     "duration": 0.029635,
     "end_time": "2022-08-28T17:10:39.314346",
     "exception": false,
     "start_time": "2022-08-28T17:10:39.284711",
     "status": "completed"
    },
    "tags": []
   },
   "outputs": [],
   "source": [
    "X_train, X_test, y_train, y_test = train_test_split(data_row_scaled.drop('price', axis=1), data_row_scaled.price,\n",
    "                                                    test_size=0.3, random_state=42)"
   ]
  },
  {
   "cell_type": "code",
   "execution_count": 10,
   "id": "ad4743be",
   "metadata": {
    "execution": {
     "iopub.execute_input": "2022-08-28T17:10:39.328903Z",
     "iopub.status.busy": "2022-08-28T17:10:39.327959Z",
     "iopub.status.idle": "2022-08-28T17:10:39.332071Z",
     "shell.execute_reply": "2022-08-28T17:10:39.331441Z"
    },
    "papermill": {
     "duration": 0.012702,
     "end_time": "2022-08-28T17:10:39.333569",
     "exception": false,
     "start_time": "2022-08-28T17:10:39.320867",
     "status": "completed"
    },
    "tags": []
   },
   "outputs": [],
   "source": [
    "variables = [col for col in X_train.columns]"
   ]
  },
  {
   "cell_type": "markdown",
   "id": "da777794",
   "metadata": {
    "papermill": {
     "duration": 0.006075,
     "end_time": "2022-08-28T17:10:39.346078",
     "exception": false,
     "start_time": "2022-08-28T17:10:39.340003",
     "status": "completed"
    },
    "tags": []
   },
   "source": [
    "# Stats and Corr with Price"
   ]
  },
  {
   "cell_type": "code",
   "execution_count": 11,
   "id": "84358beb",
   "metadata": {
    "execution": {
     "iopub.execute_input": "2022-08-28T17:10:39.360375Z",
     "iopub.status.busy": "2022-08-28T17:10:39.359854Z",
     "iopub.status.idle": "2022-08-28T17:10:39.365623Z",
     "shell.execute_reply": "2022-08-28T17:10:39.364912Z"
    },
    "papermill": {
     "duration": 0.015651,
     "end_time": "2022-08-28T17:10:39.367917",
     "exception": false,
     "start_time": "2022-08-28T17:10:39.352266",
     "status": "completed"
    },
    "tags": []
   },
   "outputs": [],
   "source": [
    "def stats_for_var(x):\n",
    "    if x.dtype == 'object':\n",
    "        return pd.Series([x.isnull().sum(), x.isnull().sum() / len(x), x.nunique()])\n",
    "    else:\n",
    "        return pd.Series(\n",
    "            [x.isnull().sum(), x.isnull().sum() / len(x), x.nunique(), x.min(), x.max(), x.mean(), x.std()])\n",
    "\n",
    "# correlation with price feature\n",
    "def corr_for_var(x):\n",
    "    corr = abs(data_row_scaled.price.corr(data_row_scaled[x].fillna(0))) \n",
    "    return corr"
   ]
  },
  {
   "cell_type": "code",
   "execution_count": 12,
   "id": "5b249fa1",
   "metadata": {
    "execution": {
     "iopub.execute_input": "2022-08-28T17:10:39.381992Z",
     "iopub.status.busy": "2022-08-28T17:10:39.381319Z",
     "iopub.status.idle": "2022-08-28T17:10:39.481111Z",
     "shell.execute_reply": "2022-08-28T17:10:39.479644Z"
    },
    "papermill": {
     "duration": 0.109224,
     "end_time": "2022-08-28T17:10:39.483515",
     "exception": false,
     "start_time": "2022-08-28T17:10:39.374291",
     "status": "completed"
    },
    "tags": []
   },
   "outputs": [
    {
     "data": {
      "text/html": [
       "<div>\n",
       "<style scoped>\n",
       "    .dataframe tbody tr th:only-of-type {\n",
       "        vertical-align: middle;\n",
       "    }\n",
       "\n",
       "    .dataframe tbody tr th {\n",
       "        vertical-align: top;\n",
       "    }\n",
       "\n",
       "    .dataframe thead th {\n",
       "        text-align: right;\n",
       "    }\n",
       "</style>\n",
       "<table border=\"1\" class=\"dataframe\">\n",
       "  <thead>\n",
       "    <tr style=\"text-align: right;\">\n",
       "      <th></th>\n",
       "      <th>null</th>\n",
       "      <th>null_share</th>\n",
       "      <th>nunique</th>\n",
       "      <th>min</th>\n",
       "      <th>max</th>\n",
       "      <th>mean</th>\n",
       "      <th>std</th>\n",
       "      <th>price_corr</th>\n",
       "    </tr>\n",
       "  </thead>\n",
       "  <tbody>\n",
       "    <tr>\n",
       "      <th>carat</th>\n",
       "      <td>0.0</td>\n",
       "      <td>0.0</td>\n",
       "      <td>273.0</td>\n",
       "      <td>-1.261481</td>\n",
       "      <td>8.886323</td>\n",
       "      <td>1.643878e-16</td>\n",
       "      <td>1.000009</td>\n",
       "      <td>0.921591</td>\n",
       "    </tr>\n",
       "    <tr>\n",
       "      <th>xyz</th>\n",
       "      <td>0.0</td>\n",
       "      <td>0.0</td>\n",
       "      <td>28459.0</td>\n",
       "      <td>-1.659566</td>\n",
       "      <td>47.426297</td>\n",
       "      <td>1.433125e-16</td>\n",
       "      <td>1.000009</td>\n",
       "      <td>0.902385</td>\n",
       "    </tr>\n",
       "    <tr>\n",
       "      <th>table_xy</th>\n",
       "      <td>0.0</td>\n",
       "      <td>0.0</td>\n",
       "      <td>19940.0</td>\n",
       "      <td>-31.635280</td>\n",
       "      <td>2.468263</td>\n",
       "      <td>-2.950551e-17</td>\n",
       "      <td>1.000009</td>\n",
       "      <td>0.892571</td>\n",
       "    </tr>\n",
       "    <tr>\n",
       "      <th>x</th>\n",
       "      <td>0.0</td>\n",
       "      <td>0.0</td>\n",
       "      <td>554.0</td>\n",
       "      <td>-5.109263</td>\n",
       "      <td>4.465326</td>\n",
       "      <td>-8.008638e-17</td>\n",
       "      <td>1.000009</td>\n",
       "      <td>0.884433</td>\n",
       "    </tr>\n",
       "    <tr>\n",
       "      <th>y</th>\n",
       "      <td>0.0</td>\n",
       "      <td>0.0</td>\n",
       "      <td>552.0</td>\n",
       "      <td>-5.021071</td>\n",
       "      <td>46.550942</td>\n",
       "      <td>3.077003e-16</td>\n",
       "      <td>1.000009</td>\n",
       "      <td>0.865419</td>\n",
       "    </tr>\n",
       "    <tr>\n",
       "      <th>z</th>\n",
       "      <td>0.0</td>\n",
       "      <td>0.0</td>\n",
       "      <td>375.0</td>\n",
       "      <td>-5.014688</td>\n",
       "      <td>40.048681</td>\n",
       "      <td>-3.751415e-16</td>\n",
       "      <td>1.000009</td>\n",
       "      <td>0.861249</td>\n",
       "    </tr>\n",
       "    <tr>\n",
       "      <th>depth_z</th>\n",
       "      <td>0.0</td>\n",
       "      <td>0.0</td>\n",
       "      <td>12311.0</td>\n",
       "      <td>-39.305345</td>\n",
       "      <td>4.919500</td>\n",
       "      <td>2.739797e-17</td>\n",
       "      <td>1.000009</td>\n",
       "      <td>0.842918</td>\n",
       "    </tr>\n",
       "    <tr>\n",
       "      <th>clarity_SI2</th>\n",
       "      <td>0.0</td>\n",
       "      <td>0.0</td>\n",
       "      <td>2.0</td>\n",
       "      <td>0.000000</td>\n",
       "      <td>1.000000</td>\n",
       "      <td>1.704392e-01</td>\n",
       "      <td>0.376022</td>\n",
       "      <td>0.128427</td>\n",
       "    </tr>\n",
       "    <tr>\n",
       "      <th>table</th>\n",
       "      <td>0.0</td>\n",
       "      <td>0.0</td>\n",
       "      <td>127.0</td>\n",
       "      <td>-6.469934</td>\n",
       "      <td>16.801197</td>\n",
       "      <td>-5.858951e-16</td>\n",
       "      <td>1.000009</td>\n",
       "      <td>0.127118</td>\n",
       "    </tr>\n",
       "    <tr>\n",
       "      <th>color_E</th>\n",
       "      <td>0.0</td>\n",
       "      <td>0.0</td>\n",
       "      <td>2.0</td>\n",
       "      <td>0.000000</td>\n",
       "      <td>1.000000</td>\n",
       "      <td>1.816547e-01</td>\n",
       "      <td>0.385563</td>\n",
       "      <td>0.101101</td>\n",
       "    </tr>\n",
       "  </tbody>\n",
       "</table>\n",
       "</div>"
      ],
      "text/plain": [
       "             null  null_share  nunique        min        max          mean  \\\n",
       "carat         0.0         0.0    273.0  -1.261481   8.886323  1.643878e-16   \n",
       "xyz           0.0         0.0  28459.0  -1.659566  47.426297  1.433125e-16   \n",
       "table_xy      0.0         0.0  19940.0 -31.635280   2.468263 -2.950551e-17   \n",
       "x             0.0         0.0    554.0  -5.109263   4.465326 -8.008638e-17   \n",
       "y             0.0         0.0    552.0  -5.021071  46.550942  3.077003e-16   \n",
       "z             0.0         0.0    375.0  -5.014688  40.048681 -3.751415e-16   \n",
       "depth_z       0.0         0.0  12311.0 -39.305345   4.919500  2.739797e-17   \n",
       "clarity_SI2   0.0         0.0      2.0   0.000000   1.000000  1.704392e-01   \n",
       "table         0.0         0.0    127.0  -6.469934  16.801197 -5.858951e-16   \n",
       "color_E       0.0         0.0      2.0   0.000000   1.000000  1.816547e-01   \n",
       "\n",
       "                  std  price_corr  \n",
       "carat        1.000009    0.921591  \n",
       "xyz          1.000009    0.902385  \n",
       "table_xy     1.000009    0.892571  \n",
       "x            1.000009    0.884433  \n",
       "y            1.000009    0.865419  \n",
       "z            1.000009    0.861249  \n",
       "depth_z      1.000009    0.842918  \n",
       "clarity_SI2  0.376022    0.128427  \n",
       "table        1.000009    0.127118  \n",
       "color_E      0.385563    0.101101  "
      ]
     },
     "metadata": {},
     "output_type": "display_data"
    }
   ],
   "source": [
    "stats = data_row_scaled[variables].apply(stats_for_var).T\n",
    "stats.columns = ['null', 'null_share', 'nunique', 'min', 'max', 'mean', 'std']\n",
    "stats['price_corr'] = stats.index.map(corr_for_var)\n",
    "display(stats.sort_values(by='price_corr', ascending=False).head(10))"
   ]
  },
  {
   "cell_type": "code",
   "execution_count": 13,
   "id": "c9a8e52f",
   "metadata": {
    "execution": {
     "iopub.execute_input": "2022-08-28T17:10:39.498682Z",
     "iopub.status.busy": "2022-08-28T17:10:39.498269Z",
     "iopub.status.idle": "2022-08-28T17:10:39.999333Z",
     "shell.execute_reply": "2022-08-28T17:10:39.998338Z"
    },
    "papermill": {
     "duration": 0.510787,
     "end_time": "2022-08-28T17:10:40.001087",
     "exception": false,
     "start_time": "2022-08-28T17:10:39.490300",
     "status": "completed"
    },
    "tags": []
   },
   "outputs": [
    {
     "name": "stdout",
     "output_type": "stream",
     "text": [
      "CPU times: user 288 ms, sys: 23.9 ms, total: 312 ms\n",
      "Wall time: 297 ms\n"
     ]
    },
    {
     "data": {
      "text/plain": [
       "<AxesSubplot:ylabel='Count'>"
      ]
     },
     "execution_count": 13,
     "metadata": {},
     "output_type": "execute_result"
    },
    {
     "data": {
      "image/png": "[encoded data removed]",
      "text/plain": [
       "<Figure size 432x288 with 1 Axes>"
      ]
     },
     "metadata": {},
     "output_type": "display_data"
    }
   ],
   "source": [
    "%%time\n",
    "\n",
    "\n",
    "df_corr = X_train[variables].corr()\n",
    "df_corr = df_corr.abs()\n",
    "\n",
    "correlations = df_corr.where(np.triu(\n",
    "        np.ones(df_corr.shape), k=1\n",
    "    ).astype(np.bool)).stack().sort_values(ascending = False)\n",
    "\n",
    "sns.histplot(correlations, bins=100)"
   ]
  },
  {
   "cell_type": "code",
   "execution_count": 14,
   "id": "56121806",
   "metadata": {
    "execution": {
     "iopub.execute_input": "2022-08-28T17:10:40.016263Z",
     "iopub.status.busy": "2022-08-28T17:10:40.015975Z",
     "iopub.status.idle": "2022-08-28T17:10:40.029129Z",
     "shell.execute_reply": "2022-08-28T17:10:40.028303Z"
    },
    "papermill": {
     "duration": 0.023955,
     "end_time": "2022-08-28T17:10:40.032055",
     "exception": false,
     "start_time": "2022-08-28T17:10:40.008100",
     "status": "completed"
    },
    "tags": []
   },
   "outputs": [
    {
     "name": "stdout",
     "output_type": "stream",
     "text": [
      "8 variables dropped\n",
      "21 variables left\n"
     ]
    }
   ],
   "source": [
    "# drop variables with big correlations\n",
    "# if the variables are correlated we drop the one with less price corr \n",
    "\n",
    "var_to_drop_list = []\n",
    "for i in correlations[correlations > 0.33].index:\n",
    "    v1 = i[0]\n",
    "    v2 = i[1]\n",
    "    \n",
    "    if (v1 in var_to_drop_list or v2 in var_to_drop_list):\n",
    "        continue    \n",
    "\n",
    "    var_to_drop = stats.loc[[v1,v2]].price_corr.idxmin()  #variable with less price corr\n",
    "    var_to_drop_list.append(var_to_drop)\n",
    "    \n",
    "print(len(var_to_drop_list), 'variables dropped')\n",
    "variables1 = [i for i in variables if i not in var_to_drop_list]\n",
    "print(len(variables1),'variables left')"
   ]
  },
  {
   "cell_type": "code",
   "execution_count": 15,
   "id": "a1687d9d",
   "metadata": {
    "execution": {
     "iopub.execute_input": "2022-08-28T17:10:40.049203Z",
     "iopub.status.busy": "2022-08-28T17:10:40.048463Z",
     "iopub.status.idle": "2022-08-28T17:10:40.054171Z",
     "shell.execute_reply": "2022-08-28T17:10:40.053141Z"
    },
    "papermill": {
     "duration": 0.015711,
     "end_time": "2022-08-28T17:10:40.056399",
     "exception": false,
     "start_time": "2022-08-28T17:10:40.040688",
     "status": "completed"
    },
    "tags": []
   },
   "outputs": [],
   "source": [
    "# we will leave only the selected variables\n",
    "X_train = X_train[variables1]\n",
    "X_test = X_test[variables1]"
   ]
  },
  {
   "cell_type": "markdown",
   "id": "851402b1",
   "metadata": {
    "papermill": {
     "duration": 0.00682,
     "end_time": "2022-08-28T17:10:40.070386",
     "exception": false,
     "start_time": "2022-08-28T17:10:40.063566",
     "status": "completed"
    },
    "tags": []
   },
   "source": [
    "# Main Part"
   ]
  },
  {
   "cell_type": "code",
   "execution_count": 16,
   "id": "dff703db",
   "metadata": {
    "execution": {
     "iopub.execute_input": "2022-08-28T17:10:40.085816Z",
     "iopub.status.busy": "2022-08-28T17:10:40.085495Z",
     "iopub.status.idle": "2022-08-28T17:10:40.094156Z",
     "shell.execute_reply": "2022-08-28T17:10:40.093597Z"
    },
    "papermill": {
     "duration": 0.018629,
     "end_time": "2022-08-28T17:10:40.095981",
     "exception": false,
     "start_time": "2022-08-28T17:10:40.077352",
     "status": "completed"
    },
    "tags": []
   },
   "outputs": [],
   "source": [
    "# Create model\n",
    "\n",
    "class Net(nn.Module):\n",
    "    def __init__(self, input_size, num_classes):\n",
    "        super(Net, self).__init__()\n",
    "        \n",
    "        self.fc11 = nn.Linear(input_size, 90)\n",
    "        self.fc12 = nn.Linear(90, 30)\n",
    "        self.fc13 = nn.Linear(30, 15)\n",
    "        \n",
    "        self.fc21 = nn.Linear(input_size, 90)\n",
    "        self.fc22 = nn.Linear(90, 30)\n",
    "        self.fc23 = nn.Linear(30, 15)\n",
    "        \n",
    "        self.fc3 = nn.Linear(30, num_classes)\n",
    "        \n",
    "        \n",
    "        self.bn1 = nn.BatchNorm1d(90)\n",
    "        self.bn2 = nn.BatchNorm1d(30)\n",
    "        self.bn3 = nn.BatchNorm1d(15)\n",
    "        \n",
    "    def forward(self, x):\n",
    "        x1 = F.relu(self.bn1(self.fc11(x)))\n",
    "        x1 = F.relu(self.bn2(self.fc12(x1)))\n",
    "        x1 = F.relu(self.bn3(self.fc13(x1)))\n",
    "        \n",
    "        x2 = F.softplus(self.bn1(self.fc21(x)))\n",
    "        x2 = F.softplus(self.bn2(self.fc22(x2)))\n",
    "        x2 = F.softplus(self.bn3(self.fc23(x2)))\n",
    "        \n",
    "        x = F.relu(self.fc3(torch.cat([x1, x2], dim=1)))\n",
    "        \n",
    "        return x"
   ]
  },
  {
   "cell_type": "code",
   "execution_count": 17,
   "id": "5f076cb3",
   "metadata": {
    "execution": {
     "iopub.execute_input": "2022-08-28T17:10:40.111773Z",
     "iopub.status.busy": "2022-08-28T17:10:40.111476Z",
     "iopub.status.idle": "2022-08-28T17:10:40.116668Z",
     "shell.execute_reply": "2022-08-28T17:10:40.115981Z"
    },
    "papermill": {
     "duration": 0.015549,
     "end_time": "2022-08-28T17:10:40.118747",
     "exception": false,
     "start_time": "2022-08-28T17:10:40.103198",
     "status": "completed"
    },
    "tags": []
   },
   "outputs": [],
   "source": [
    "def generate_batches(X, y, batch_size): # function for batches prepare\n",
    "    assert len(X) == len(y)\n",
    "    np.random.seed(42)\n",
    "    X = np.array(X)\n",
    "    y = np.array(y)\n",
    "    perm = np.random.permutation(len(X))\n",
    "\n",
    "    for i in range(len(X)//batch_size):\n",
    "        if i + batch_size >= len(X):\n",
    "            continue\n",
    "        ind = perm[i*batch_size : (i+1)*batch_size]\n",
    "        yield (X[ind], y[ind])"
   ]
  },
  {
   "cell_type": "code",
   "execution_count": 18,
   "id": "d076ac8f",
   "metadata": {
    "execution": {
     "iopub.execute_input": "2022-08-28T17:10:40.135188Z",
     "iopub.status.busy": "2022-08-28T17:10:40.134341Z",
     "iopub.status.idle": "2022-08-28T17:10:40.139313Z",
     "shell.execute_reply": "2022-08-28T17:10:40.138200Z"
    },
    "papermill": {
     "duration": 0.015219,
     "end_time": "2022-08-28T17:10:40.141329",
     "exception": false,
     "start_time": "2022-08-28T17:10:40.126110",
     "status": "completed"
    },
    "tags": []
   },
   "outputs": [
    {
     "name": "stdout",
     "output_type": "stream",
     "text": [
      "75\n",
      "(37760, 21)\n"
     ]
    }
   ],
   "source": [
    "batch_size = 500\n",
    "batch_no = len(X_train) // batch_size\n",
    "print(batch_no)\n",
    "print(X_train.shape)"
   ]
  },
  {
   "cell_type": "code",
   "execution_count": 19,
   "id": "23652521",
   "metadata": {
    "execution": {
     "iopub.execute_input": "2022-08-28T17:10:40.156485Z",
     "iopub.status.busy": "2022-08-28T17:10:40.156164Z",
     "iopub.status.idle": "2022-08-28T17:10:40.160533Z",
     "shell.execute_reply": "2022-08-28T17:10:40.159668Z"
    },
    "papermill": {
     "duration": 0.013711,
     "end_time": "2022-08-28T17:10:40.162206",
     "exception": false,
     "start_time": "2022-08-28T17:10:40.148495",
     "status": "completed"
    },
    "tags": []
   },
   "outputs": [],
   "source": [
    "# Here we will define all params for NN\n",
    "\n",
    "input_size = 21\n",
    "num_classes = 1\n",
    "num_epochs = 150\n",
    "learning_rate = 0.05"
   ]
  },
  {
   "cell_type": "code",
   "execution_count": 20,
   "id": "39b5cbc7",
   "metadata": {
    "execution": {
     "iopub.execute_input": "2022-08-28T17:10:40.177714Z",
     "iopub.status.busy": "2022-08-28T17:10:40.177006Z",
     "iopub.status.idle": "2022-08-28T17:10:40.187082Z",
     "shell.execute_reply": "2022-08-28T17:10:40.186450Z"
    },
    "papermill": {
     "duration": 0.019943,
     "end_time": "2022-08-28T17:10:40.189123",
     "exception": false,
     "start_time": "2022-08-28T17:10:40.169180",
     "status": "completed"
    },
    "tags": []
   },
   "outputs": [],
   "source": [
    "model = Net(input_size, num_classes)"
   ]
  },
  {
   "cell_type": "code",
   "execution_count": 21,
   "id": "c1e27c48",
   "metadata": {
    "execution": {
     "iopub.execute_input": "2022-08-28T17:10:40.205597Z",
     "iopub.status.busy": "2022-08-28T17:10:40.205076Z",
     "iopub.status.idle": "2022-08-28T17:10:40.209833Z",
     "shell.execute_reply": "2022-08-28T17:10:40.208869Z"
    },
    "papermill": {
     "duration": 0.01484,
     "end_time": "2022-08-28T17:10:40.211704",
     "exception": false,
     "start_time": "2022-08-28T17:10:40.196864",
     "status": "completed"
    },
    "tags": []
   },
   "outputs": [],
   "source": [
    "optimizer = torch.optim.SGD(model.parameters(), lr=learning_rate)\n",
    "criterion = nn.L1Loss() # loss function"
   ]
  },
  {
   "cell_type": "code",
   "execution_count": 22,
   "id": "ee5b63f1",
   "metadata": {
    "execution": {
     "iopub.execute_input": "2022-08-28T17:10:40.228199Z",
     "iopub.status.busy": "2022-08-28T17:10:40.226961Z",
     "iopub.status.idle": "2022-08-28T17:10:40.237344Z",
     "shell.execute_reply": "2022-08-28T17:10:40.236481Z"
    },
    "papermill": {
     "duration": 0.020599,
     "end_time": "2022-08-28T17:10:40.239390",
     "exception": false,
     "start_time": "2022-08-28T17:10:40.218791",
     "status": "completed"
    },
    "tags": []
   },
   "outputs": [],
   "source": [
    "X_train, X_test = torch.Tensor(np.array(X_train)),torch.Tensor(np.array(X_test))\n",
    "y_train, y_test = torch.Tensor(np.array(y_train)),torch.Tensor(np.array(y_test))"
   ]
  },
  {
   "cell_type": "code",
   "execution_count": 23,
   "id": "92407a49",
   "metadata": {
    "execution": {
     "iopub.execute_input": "2022-08-28T17:10:40.255611Z",
     "iopub.status.busy": "2022-08-28T17:10:40.254899Z",
     "iopub.status.idle": "2022-08-28T17:11:32.470132Z",
     "shell.execute_reply": "2022-08-28T17:11:32.469234Z"
    },
    "papermill": {
     "duration": 52.22523,
     "end_time": "2022-08-28T17:11:32.471934",
     "exception": false,
     "start_time": "2022-08-28T17:10:40.246704",
     "status": "completed"
    },
    "tags": []
   },
   "outputs": [
    {
     "name": "stdout",
     "output_type": "stream",
     "text": [
      "Epoch: [10/150], Step: [10], Loss: 342.8630, r2_test: 0.9787\n",
      "Epoch: [20/150], Step: [20], Loss: 345.2244, r2_test: 0.9797\n",
      "Epoch: [30/150], Step: [30], Loss: 334.0088, r2_test: 0.9801\n",
      "Epoch: [40/150], Step: [40], Loss: 330.9825, r2_test: 0.9804\n",
      "Epoch: [50/150], Step: [50], Loss: 336.4897, r2_test: 0.9807\n",
      "Epoch: [60/150], Step: [60], Loss: 322.7509, r2_test: 0.9808\n",
      "Epoch: [70/150], Step: [70], Loss: 325.4380, r2_test: 0.9808\n",
      "Epoch: [80/150], Step: [80], Loss: 322.8920, r2_test: 0.9807\n",
      "Epoch: [90/150], Step: [90], Loss: 326.3742, r2_test: 0.9808\n",
      "Epoch: [100/150], Step: [100], Loss: 317.3969, r2_test: 0.9809\n",
      "Epoch: [110/150], Step: [110], Loss: 316.6332, r2_test: 0.9809\n",
      "Epoch: [120/150], Step: [120], Loss: 312.6287, r2_test: 0.9808\n",
      "Epoch: [130/150], Step: [130], Loss: 311.4785, r2_test: 0.9809\n",
      "Epoch: [140/150], Step: [140], Loss: 312.8266, r2_test: 0.9809\n",
      "Epoch: [150/150], Step: [150], Loss: 315.2562, r2_test: 0.9809\n"
     ]
    }
   ],
   "source": [
    "# Training the Model\n",
    "for epoch in range(num_epochs):\n",
    "    batch_loss = 0\n",
    "    batch_roc = 0\n",
    "    size = 0    \n",
    "    for (x, y) in generate_batches(X_train, y_train, 500):\n",
    "        \n",
    "        inputs = Variable(torch.from_numpy(x)).float()\n",
    "        labels = Variable(torch.from_numpy(y)).type(torch.FloatTensor) \n",
    "        \n",
    "        outputs = model(inputs)\n",
    "        loss = criterion(torch.squeeze(outputs), labels)\n",
    "        \n",
    "        optimizer.zero_grad()\n",
    "        loss.backward()\n",
    "        optimizer.step()\n",
    "        \n",
    "        size += 1        \n",
    "        \n",
    "    if (epoch+1) % 10 == 0:\n",
    "        pred_temp = model(X_test).detach().numpy()\n",
    "        print ('Epoch: [%d/%d], Step: [%d], Loss: %.4f, r2_test: %.4f' \n",
    "                % (epoch+1, num_epochs, epoch+1, loss.item(), r2_score(y_test, pred_temp)))"
   ]
  },
  {
   "cell_type": "code",
   "execution_count": 24,
   "id": "733e1992",
   "metadata": {
    "execution": {
     "iopub.execute_input": "2022-08-28T17:11:32.490076Z",
     "iopub.status.busy": "2022-08-28T17:11:32.489765Z",
     "iopub.status.idle": "2022-08-28T17:11:32.528314Z",
     "shell.execute_reply": "2022-08-28T17:11:32.527299Z"
    },
    "papermill": {
     "duration": 0.049629,
     "end_time": "2022-08-28T17:11:32.530703",
     "exception": false,
     "start_time": "2022-08-28T17:11:32.481074",
     "status": "completed"
    },
    "tags": []
   },
   "outputs": [
    {
     "data": {
      "text/plain": [
       "0.9809009154494462"
      ]
     },
     "execution_count": 24,
     "metadata": {},
     "output_type": "execute_result"
    }
   ],
   "source": [
    "y_pred = model(X_test).detach().numpy()\n",
    "r2_score(y_test, y_pred)"
   ]
  }
 ],
 "metadata": {
  "kernelspec": {
   "display_name": "Python 3",
   "language": "python",
   "name": "python3"
  },
  "language_info": {
   "codemirror_mode": {
    "name": "ipython",
    "version": 3
   },
   "file_extension": ".py",
   "mimetype": "text/x-python",
   "name": "python",
   "nbconvert_exporter": "python",
   "pygments_lexer": "ipython3",
   "version": "3.7.12"
  },
  "papermill": {
   "default_parameters": {},
   "duration": 64.823004,
   "end_time": "2022-08-28T17:11:33.358855",
   "environment_variables": {},
   "exception": null,
   "input_path": "__notebook__.ipynb",
   "output_path": "__notebook__.ipynb",
   "parameters": {},
   "start_time": "2022-08-28T17:10:28.535851",
   "version": "2.3.4"
  }
 },
 "nbformat": 4,
 "nbformat_minor": 5
}
