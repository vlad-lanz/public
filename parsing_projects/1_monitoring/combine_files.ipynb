{
 "cells": [
  {
   "cell_type": "code",
   "execution_count": 124,
   "id": "62ab4d4a-38de-4453-a49c-4cd1fb2e752c",
   "metadata": {},
   "outputs": [],
   "source": [
    "import pandas as pd\n",
    "import numpy as np\n",
    "import os\n",
    "import re"
   ]
  },
  {
   "cell_type": "code",
   "execution_count": 125,
   "id": "78a77269-fb5b-4305-823b-f54df3cd9edf",
   "metadata": {},
   "outputs": [],
   "source": [
    "# беру путь\n",
    "directory_path = r'C:\\python_work\\выгрузки\\1_мониторинг\\full_backup'"
   ]
  },
  {
   "cell_type": "code",
   "execution_count": 126,
   "id": "21dc4e1c-8600-4734-b0ea-d68c667499b6",
   "metadata": {},
   "outputs": [],
   "source": [
    "# названия всех файлов\n",
    "file_names = os.listdir(directory_path)"
   ]
  },
  {
   "cell_type": "code",
   "execution_count": 127,
   "id": "7ea34396-66c5-4d36-9e6f-546afa3508bf",
   "metadata": {},
   "outputs": [],
   "source": [
    "# делаю список, в котором все файлы\n",
    "all_dfs_list = [pd.read_excel(f\"{directory_path}/{file_name}\") for file_name in file_names]"
   ]
  },
  {
   "cell_type": "code",
   "execution_count": 128,
   "id": "e7002a2b-93e2-41ac-ac3b-b8d3f2b320eb",
   "metadata": {},
   "outputs": [],
   "source": [
    "# склеиваю в один\n",
    "concatted_df = pd.DataFrame()\n",
    "for df in all_dfs_list:\n",
    "    concatted_df = pd.concat([concatted_df, df], axis=0)"
   ]
  },
  {
   "cell_type": "code",
   "execution_count": 129,
   "id": "4d95c1d4-4481-4207-8b48-0591450b8dd6",
   "metadata": {},
   "outputs": [],
   "source": [
    "raw = concatted_df.copy()"
   ]
  },
  {
   "cell_type": "code",
   "execution_count": 130,
   "id": "2c6f6235-1546-444b-83af-30374b2684f4",
   "metadata": {},
   "outputs": [],
   "source": [
    "# беру все числовые колонки\n",
    "all_cols = list(raw.iloc[:, :-2].columns)"
   ]
  },
  {
   "cell_type": "code",
   "execution_count": 131,
   "id": "16734ad6-2c53-4d9e-af7e-3f8f8c3948a2",
   "metadata": {},
   "outputs": [],
   "source": [
    "# убираю нечисловой\n",
    "all_cols.remove('47. Наличие электронной библиотечной системы (да/нет)')"
   ]
  },
  {
   "cell_type": "code",
   "execution_count": 132,
   "id": "299de6af-9216-4b8c-8b6a-333a373fcaf6",
   "metadata": {},
   "outputs": [],
   "source": [
    "# привожу всё к строке\n",
    "raw = raw.astype('str')"
   ]
  },
  {
   "cell_type": "code",
   "execution_count": 133,
   "id": "81e3e894-11e8-472e-9556-5fdba79bf755",
   "metadata": {},
   "outputs": [],
   "source": [
    "# делаю замены\n",
    "for col in all_cols:\n",
    "    raw[col] = (raw[col].str.replace(',,', ',')\n",
    "    .str.replace(',', '.')\n",
    "    .str.replace(r'–.*)', '')\n",
    "    .str.replace(r'.-', '')\n",
    "    .str.replace(r'.–', '')\n",
    "    .str.replace(',-', '')\\\n",
    "    .str.replace('проводитсяанализкорректностипредоставленныхданн.ых', '')\n",
    "    .str.replace('0.0.0*', '0')\n",
    "    .str.replace('отсутствуютданныевФРД.О*', '')\n",
    "    .str.replace('.0.0*', '')\n",
    "    .str.replace('-', '')   \n",
    "    .str.replace('–', '')   \n",
    "               )"
   ]
  },
  {
   "cell_type": "code",
   "execution_count": 134,
   "id": "6525fc67-3c01-4df7-bcb3-deb75853acfd",
   "metadata": {},
   "outputs": [],
   "source": [
    "# привожу к числовому формату\n",
    "for col in all_cols:\n",
    "    raw[col] = pd.to_numeric(raw[col])"
   ]
  },
  {
   "cell_type": "code",
   "execution_count": 135,
   "id": "a9092fda-b1f2-43c2-b190-6ce2eff70d63",
   "metadata": {},
   "outputs": [],
   "source": [
    "# здесь год\n",
    "raw.iloc[:, -2] = raw.iloc[:, -2].astype('int')"
   ]
  },
  {
   "cell_type": "code",
   "execution_count": 140,
   "id": "beafd0da-e687-48de-907c-05baf737b6ab",
   "metadata": {},
   "outputs": [],
   "source": [
    "# меняю столбики местами\n",
    "raw = pd.concat([\n",
    "    raw.iloc[:, -1:],\n",
    "    raw.iloc[:, -2:-1],\n",
    "    raw.iloc[:, :-2]],axis=1)"
   ]
  },
  {
   "cell_type": "code",
   "execution_count": 141,
   "id": "f81758a3-6353-4480-8b13-602745065598",
   "metadata": {},
   "outputs": [],
   "source": [
    "# обработка столбика 'Университет'"
   ]
  },
  {
   "cell_type": "code",
   "execution_count": 142,
   "id": "a3b90731-4464-4c90-b66c-110b8892f99f",
   "metadata": {},
   "outputs": [],
   "source": [
    "raw.Университет = raw.Университет.str.replace('«', '\"').str.replace('»', '\"')"
   ]
  },
  {
   "cell_type": "code",
   "execution_count": 143,
   "id": "1de0bd19-8efc-4af6-87a2-c6a03d471c26",
   "metadata": {},
   "outputs": [],
   "source": [
    "regex_name = re.compile(r'\".*\"')"
   ]
  },
  {
   "cell_type": "code",
   "execution_count": 144,
   "id": "f61e7bd2-14a2-4a6e-ac8e-3c5aa52f9207",
   "metadata": {},
   "outputs": [],
   "source": [
    "uni_names = list(raw.Университет)"
   ]
  },
  {
   "cell_type": "code",
   "execution_count": 145,
   "id": "d1c8e8d7-5e41-4409-b0ae-6dfc4e3f22be",
   "metadata": {},
   "outputs": [],
   "source": [
    "after_work = []"
   ]
  },
  {
   "cell_type": "code",
   "execution_count": 146,
   "id": "9359407e-2da9-4d2f-986c-d8a734fa8cd6",
   "metadata": {},
   "outputs": [],
   "source": [
    "# использую regex, чтобы убрать всё за пределами кавычек\n",
    "for uni in uni_names:\n",
    "    try:\n",
    "        match_name = regex_name.search(uni)\n",
    "        after_work.append(match_name.group())\n",
    "    except:\n",
    "        after_work.append(uni)"
   ]
  },
  {
   "cell_type": "code",
   "execution_count": 147,
   "id": "8ba7bf0b-1fc1-4eb8-a95a-7bcee2a9bbdb",
   "metadata": {
    "scrolled": true
   },
   "outputs": [],
   "source": [
    "raw.Университет = after_work"
   ]
  },
  {
   "cell_type": "code",
   "execution_count": 148,
   "id": "ad3df696-6e9e-46ac-b7c9-a282b3b0d216",
   "metadata": {},
   "outputs": [],
   "source": [
    "raw.Университет = (raw.Университет.str.replace('\"', '')\n",
    "                   .str.replace(\"федеральное государственное автономное образовательное учреждение высшего образования Первый Московский государственный медицинский университет имени И.М. Сеченова Министерства здравоохранения Российской Федерации (Сеченовский Университет)\", 'Сеченовский Университет'))"
   ]
  },
  {
   "cell_type": "code",
   "execution_count": 149,
   "id": "5691c28f-497e-4135-af84-f5578977baf9",
   "metadata": {},
   "outputs": [],
   "source": [
    "file_name = r'C:\\python_work\\выгрузки\\1_мониторинг\\выгрузка_до_2022.xlsx'"
   ]
  },
  {
   "cell_type": "code",
   "execution_count": 150,
   "id": "9985d419-6e37-4ed7-954d-742dbdf17b8e",
   "metadata": {},
   "outputs": [],
   "source": [
    "raw.to_excel(file_name, index=None)"
   ]
  },
  {
   "cell_type": "code",
   "execution_count": null,
   "id": "e8812ce0-d91b-4930-b225-34f6c1df856c",
   "metadata": {},
   "outputs": [],
   "source": []
  }
 ],
 "metadata": {
  "kernelspec": {
   "display_name": "Python 3 (ipykernel)",
   "language": "python",
   "name": "python3"
  },
  "language_info": {
   "codemirror_mode": {
    "name": "ipython",
    "version": 3
   },
   "file_extension": ".py",
   "mimetype": "text/x-python",
   "name": "python",
   "nbconvert_exporter": "python",
   "pygments_lexer": "ipython3",
   "version": "3.12.0"
  }
 },
 "nbformat": 4,
 "nbformat_minor": 5
}
