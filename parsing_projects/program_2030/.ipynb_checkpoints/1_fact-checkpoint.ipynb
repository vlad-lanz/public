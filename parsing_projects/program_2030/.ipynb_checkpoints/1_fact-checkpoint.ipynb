{
 "cells": [
  {
   "cell_type": "code",
   "execution_count": 1,
   "id": "0723dfc6-907e-4046-97ff-376565799a13",
   "metadata": {},
   "outputs": [],
   "source": [
    "import requests\n",
    "import time\n",
    "import pandas as pd\n",
    "import datetime as dt"
   ]
  },
  {
   "cell_type": "code",
   "execution_count": 2,
   "id": "87fc5e46-e6ee-4039-a174-b68ae9bb1683",
   "metadata": {},
   "outputs": [],
   "source": [
    "base_api_url = 'https://api.socio.center/public/priority'\n",
    "answer = requests.get(f\"{base_api_url}/list\")\n",
    "answer_json = answer.json()"
   ]
  },
  {
   "cell_type": "code",
   "execution_count": 3,
   "id": "795e507a-f25f-44c5-b82d-8763b9a6f33e",
   "metadata": {},
   "outputs": [],
   "source": [
    "# здесь получаю данные по id и shortname универов\n",
    "if answer.status_code == 200 and answer_json['status'] == 'success':\n",
    "    university_names = pd.DataFrame(answer_json['data']['participants'])\n",
    "    # карта применяется для перевода 1-5 в нужные значения в столбике\n",
    "    university_names.group = university_names.group.map(answer_json['data']['group'])\n",
    "    university_names = university_names.loc[university_names.level == '1']  # трек \"Исследовательское лидерство\"\n",
    "else:\n",
    "    raise Exception(f\"{answer.status_code} не 200, либо {answer_json['status']} не success\")"
   ]
  },
  {
   "cell_type": "code",
   "execution_count": 4,
   "id": "258f0eae-2b1c-4f1e-ae66-4dd5abd067fd",
   "metadata": {},
   "outputs": [],
   "source": [
    "assert university_names.shape[0] == 15, \"Число университетов не равно 15!\""
   ]
  },
  {
   "cell_type": "code",
   "execution_count": 5,
   "id": "eb479390-20ae-4b16-9abd-0af50f2a7587",
   "metadata": {},
   "outputs": [],
   "source": [
    "combined_universities = pd.DataFrame()  # здесь суммарные данные"
   ]
  },
  {
   "cell_type": "code",
   "execution_count": 6,
   "id": "1789ce21-8753-4e7b-b335-d2141e9799bd",
   "metadata": {},
   "outputs": [],
   "source": [
    "for index, row in university_names.iterrows():  # перебираю универы\n",
    "    university_id, university_name = row['id'], row['shortName']\n",
    "    university_url = f\"{base_api_url}/{university_id}/indicators\"\n",
    "    university_answer = requests.get(university_url)\n",
    "    university_json = university_answer.json()\n",
    "\n",
    "    if university_answer.status_code == 200 and university_json['status'] == 'success':\n",
    "        # здесь данные с базового (0), специального (1) треков, и финансовых показателей (2)\n",
    "        indicators_data = university_json['data'][0]['elements'] + university_json['data'][1]['elements'] + university_json['data'][2]['elements']\n",
    "        all_indicators_df = pd.DataFrame()  # это суммарная таблица по универу\n",
    "\n",
    "        for indicator in indicators_data:\n",
    "            # полное имя показателя вместе с описанием и единицами измерения\n",
    "            indicator_name = f\"{indicator['indicator']}. {indicator['description']} ({indicator['unit']}).\"\n",
    "            current_indicator = pd.DataFrame()  # здесь будет лежать суммарная информация по каждому из показателей\n",
    "\n",
    "            # в data лежат данные по самому показателю: факт и план, а в calculationData расчётные показатели\n",
    "            for sub_indicator in indicator['data'] + indicator['calculationData']:\n",
    "                # внутри лежит словарь с 10 связками ключ-значение по одному столбику, где напротив каждого года - его значение\n",
    "                all_data = sub_indicator['data'].items()\n",
    "\n",
    "                # здесь данные по каждому столбику по отдельности\n",
    "                # делаю формат таким, чтобы на месте индекса был год, а единственный столбик - данные\n",
    "                current_sub_indicator = pd.DataFrame(all_data).set_index(0).rename(\n",
    "                    {1: f\"{sub_indicator['description']}\"}, axis=1)\n",
    "                \n",
    "                # в конце цикла прибавляю по одному столбику с данными\n",
    "                # приклеиваю справа по одному\n",
    "                current_indicator = pd.concat([current_indicator, current_sub_indicator], axis=1).fillna(0)\n",
    "\n",
    "            # в конце получается табличка по показателю: факт, план и остальные, если они есть\n",
    "            current_indicator = current_indicator.rename(\n",
    "                {\"Отражение факта\": f\"{indicator_name} Факт.\",\n",
    "                 'План': f\"{indicator_name} План.\"}, axis=1)\n",
    "\n",
    "            # здесь прибавляю табличку по данному показателю к общей табличке по университету\n",
    "            all_indicators_df = pd.concat([all_indicators_df, current_indicator], axis=1)\n",
    "    else:\n",
    "        raise Exception(f'''По университету {university_name}\n",
    "        {university_answer.status_code} не 200, либо {university_json['status']} не success''')\n",
    "\n",
    "    # проставляю имя университета\n",
    "    all_indicators_df['Университет'] = university_name\n",
    "    # последнее действие по университету: суммарные данные по университету приклеиваю к общей таблице\n",
    "    combined_universities = pd.concat([combined_universities, all_indicators_df])\n",
    "    time.sleep(0.5)"
   ]
  },
  {
   "cell_type": "code",
   "execution_count": 7,
   "id": "f7a7609c-f4fb-40b8-91f9-18b6bb174928",
   "metadata": {},
   "outputs": [],
   "source": [
    "# так как в цикле по индексу были годы, то обратно делаю столбик с годами\n",
    "combined_universities['Год'] = combined_universities.index"
   ]
  },
  {
   "cell_type": "code",
   "execution_count": 8,
   "id": "967c53f6-c265-420e-aa87-97a7c23f6a86",
   "metadata": {},
   "outputs": [],
   "source": [
    "# все колонки кроме 'Университет' приводим к числовому формату\n",
    "for column_number in range(combined_universities.shape[1]):\n",
    "    if combined_universities.iloc[:, column_number].name != 'Университет':\n",
    "        combined_universities.iloc[:, column_number] = pd.to_numeric(combined_universities.iloc[:, column_number])"
   ]
  },
  {
   "cell_type": "code",
   "execution_count": 9,
   "id": "e5eb62e1-7d08-465c-9c07-a56b083cd0e4",
   "metadata": {},
   "outputs": [],
   "source": [
    "# сортировка и после сортировки создание столбика с №\n",
    "combined_universities = combined_universities.sort_values(['Год', 'Университет'])\n",
    "combined_universities['№'] = range(1, combined_universities.shape[0] + 1)"
   ]
  },
  {
   "cell_type": "code",
   "execution_count": 10,
   "id": "054208e0-cc66-43e1-8c3f-09e5179b6186",
   "metadata": {},
   "outputs": [],
   "source": [
    "# конкатенация с правильным порядком столбиков\n",
    "final_df = pd.concat([\n",
    "    combined_universities.iloc[:, -1:],\n",
    "    combined_universities.iloc[:, -3:-1],\n",
    "    combined_universities.iloc[:, :-3]\n",
    "], axis=1)"
   ]
  },
  {
   "cell_type": "code",
   "execution_count": 11,
   "id": "4667b7c3-0607-49a2-8a10-49aac6ca70ab",
   "metadata": {},
   "outputs": [],
   "source": [
    "file_name = rf'C:/python_work/выгрузки/программа_2030/приоритет_2030_{dt.date.today()}.xlsx'\n",
    "final_df.to_excel(file_name, sheet_name='Показатели', index=False)"
   ]
  }
 ],
 "metadata": {
  "kernelspec": {
   "display_name": "Python 3 (ipykernel)",
   "language": "python",
   "name": "python3"
  },
  "language_info": {
   "codemirror_mode": {
    "name": "ipython",
    "version": 3
   },
   "file_extension": ".py",
   "mimetype": "text/x-python",
   "name": "python",
   "nbconvert_exporter": "python",
   "pygments_lexer": "ipython3",
   "version": "3.12.0"
  }
 },
 "nbformat": 4,
 "nbformat_minor": 5
}
