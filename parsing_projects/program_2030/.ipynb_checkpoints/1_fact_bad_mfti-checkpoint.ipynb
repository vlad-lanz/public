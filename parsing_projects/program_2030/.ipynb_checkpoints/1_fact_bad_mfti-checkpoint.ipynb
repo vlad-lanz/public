{
 "cells": [
  {
   "cell_type": "code",
   "execution_count": 80,
   "id": "ddf37c8d-52c6-4f28-ba5a-812ce8262477",
   "metadata": {},
   "outputs": [],
   "source": [
    "import requests\n",
    "import time\n",
    "import pandas as pd\n",
    "import datetime as dt"
   ]
  },
  {
   "cell_type": "code",
   "execution_count": 81,
   "id": "462f1d71-a758-4985-874c-94ff492f5de4",
   "metadata": {},
   "outputs": [],
   "source": [
    "base_api_url = 'https://api.socio.center/public/priority'\n",
    "answer = requests.get(f\"{base_api_url}/list\")\n",
    "answer_json = answer.json()"
   ]
  },
  {
   "cell_type": "code",
   "execution_count": 82,
   "id": "5dfdf4de-d2d5-4ffb-8529-a79c16e72fcb",
   "metadata": {},
   "outputs": [],
   "source": [
    "# здесь получаю данные по id и shortname универов\n",
    "if answer.status_code == 200 and answer_json['status'] == 'success':\n",
    "    university_names = pd.DataFrame(answer_json['data']['participants'])\n",
    "    # карта применяется для перевода 1-5 в нужные значения в столбике\n",
    "    university_names.group = university_names.group.map(answer_json['data']['group'])\n",
    "    university_names = university_names.loc[university_names.level == '1']  # трек \"Исследовательское лидерство\"\n",
    "else:\n",
    "    raise Exception(f\"{answer.status_code} не 200, либо {answer_json['status']} не success\")"
   ]
  },
  {
   "cell_type": "code",
   "execution_count": 83,
   "id": "34b29314-46e6-41d8-8ef8-dfc364f96cf5",
   "metadata": {},
   "outputs": [],
   "source": [
    "assert university_names.shape[0] == 15, \"Число университетов не равно 15!\""
   ]
  },
  {
   "cell_type": "code",
   "execution_count": 84,
   "id": "df688621-a792-467b-a296-5fb80955aad5",
   "metadata": {},
   "outputs": [],
   "source": [
    "combined_universities = pd.DataFrame()  # здесь суммарные данные"
   ]
  },
  {
   "cell_type": "code",
   "execution_count": 85,
   "id": "acd5dad1-04c2-4876-a0d8-a13eda1dac39",
   "metadata": {},
   "outputs": [],
   "source": [
    "all_df = []"
   ]
  },
  {
   "cell_type": "code",
   "execution_count": 86,
   "id": "8e1d3041-5601-4d0e-8804-95ca819848fd",
   "metadata": {},
   "outputs": [],
   "source": [
    "for index, row in university_names.iloc[:1, :].iterrows():  # перебираю универы\n",
    "    university_id, university_name = row['id'], row['shortName']\n",
    "    university_url = f\"{base_api_url}/{university_id}/indicators\"\n",
    "    university_answer = requests.get(university_url)\n",
    "    university_json = university_answer.json()\n",
    "\n",
    "    if university_answer.status_code == 200 and university_json['status'] == 'success':\n",
    "        # здесь данные с базового и специального треков\n",
    "        indicators_data = university_json['data'][0]['elements'] + university_json['data'][1]['elements']\n",
    "        all_indicators_df = pd.DataFrame()  # это суммарная таблица по универу\n",
    "        \n",
    "        for indicator in indicators_data:\n",
    "            indicator_name = indicator['indicator']  # имя индикатора\n",
    "            current_indicator = pd.DataFrame()  # здесь будет лежать суммарная информация по каждому из показателей\n",
    "\n",
    "            # в data лежат данные по самому показателю: факт и план, а в calculationData расчётные показатели\n",
    "            for sub_indicator in indicator['data'] + indicator['calculationData']:\n",
    "                # внутри лежит словарь с 10 связками ключ-значение, где напротив каждого года - его значение\n",
    "                all_data = sub_indicator['data'].items()\n",
    "\n",
    "                # здесь данные по каждому столбику по отдельности\n",
    "                # делаю формат таким, чтобы на месте индекса был год, а единственный столбик - данные\n",
    "                current_sub_indicator = pd.DataFrame(all_data).set_index(0).rename(\n",
    "                    {1: f\"{sub_indicator['description']}\"}, axis=1)\n",
    "\n",
    "                current_indicator = pd.concat([current_indicator, current_sub_indicator], axis=1).fillna(0)\n",
    "\n",
    "            current_indicator = current_indicator.rename(\n",
    "                {\"Отражение факта\": f\"{indicator_name} факт\",\n",
    "                 'План': f\"{indicator_name} план\"}, axis=1)\n",
    "\n",
    "            all_indicators_df = pd.concat([all_indicators_df, current_indicator], axis=1)\n",
    "    else:\n",
    "        raise Exception(f'''По университету {university_name}\n",
    "        {university_answer.status_code} не 200, либо {university_json['status']} не success''')\n",
    "\n",
    "    all_indicators_df['Университет'] = university_name\n",
    "\n",
    "    all_df.append(all_indicators_df)\n",
    "    # combined_universities = pd.concat([combined_universities, all_indicators_df])\n",
    "    time.sleep(0.5)"
   ]
  },
  {
   "cell_type": "code",
   "execution_count": null,
   "id": "77f92b57-645e-46a4-8f42-21fe7b843116",
   "metadata": {},
   "outputs": [],
   "source": []
  },
  {
   "cell_type": "code",
   "execution_count": 87,
   "id": "201434d6-b803-4653-b009-f5f173e4053e",
   "metadata": {},
   "outputs": [],
   "source": [
    "for index, row in university_names.iloc[1:, :].iterrows():  # перебираю универы\n",
    "    university_id, university_name = row['id'], row['shortName']\n",
    "    university_url = f\"{base_api_url}/{university_id}/indicators\"\n",
    "    university_answer = requests.get(university_url)\n",
    "    university_json = university_answer.json()\n",
    "\n",
    "    if university_answer.status_code == 200 and university_json['status'] == 'success':\n",
    "        # здесь данные с базового и специального треков\n",
    "        indicators_data = university_json['data'][0]['elements'] + university_json['data'][1]['elements']\n",
    "        all_indicators_df = pd.DataFrame()  # это суммарная таблица по универу\n",
    "        \n",
    "        for indicator in indicators_data:\n",
    "            indicator_name = indicator['indicator']  # имя индикатора\n",
    "            current_indicator = pd.DataFrame()  # здесь будет лежать суммарная информация по каждому из показателей\n",
    "\n",
    "            # в data лежат данные по самому показателю: факт и план, а в calculationData расчётные показатели\n",
    "            for sub_indicator in indicator['data'] + indicator['calculationData']:\n",
    "                # внутри лежит словарь с 10 связками ключ-значение, где напротив каждого года - его значение\n",
    "                all_data = sub_indicator['data'].items()\n",
    "\n",
    "                # здесь данные по каждому столбику по отдельности\n",
    "                # делаю формат таким, чтобы на месте индекса был год, а единственный столбик - данные\n",
    "                current_sub_indicator = pd.DataFrame(all_data).set_index(0).rename(\n",
    "                    {1: f\"{sub_indicator['description']}\"}, axis=1)\n",
    "\n",
    "                current_indicator = pd.concat([current_indicator, current_sub_indicator], axis=1).fillna(0)\n",
    "\n",
    "            current_indicator = current_indicator.rename(\n",
    "                {\"Отражение факта\": f\"{indicator_name} факт\",\n",
    "                 'План': f\"{indicator_name} план\"}, axis=1)\n",
    "\n",
    "            all_indicators_df = pd.concat([all_indicators_df, current_indicator], axis=1)\n",
    "    else:\n",
    "        raise Exception(f'''По университету {university_name}\n",
    "        {university_answer.status_code} не 200, либо {university_json['status']} не success''')\n",
    "\n",
    "    all_indicators_df['Университет'] = university_name\n",
    "\n",
    "    all_df.append(all_indicators_df)\n",
    "    # combined_universities = pd.concat([combined_universities, all_indicators_df])\n",
    "    time.sleep(0.5)"
   ]
  },
  {
   "cell_type": "code",
   "execution_count": 88,
   "id": "e9ff80b0-0ea1-4042-9ce0-4f651aaf54fa",
   "metadata": {},
   "outputs": [],
   "source": [
    "mfti = all_df[0]"
   ]
  },
  {
   "cell_type": "code",
   "execution_count": 89,
   "id": "607bceca-f4c0-449d-a2ad-0092b696d30e",
   "metadata": {},
   "outputs": [],
   "source": [
    "mfti['ПРГ2 факт'] = 0"
   ]
  },
  {
   "cell_type": "code",
   "execution_count": 92,
   "id": "eb5896dc-d7d0-458c-8393-7c54f7334f69",
   "metadata": {},
   "outputs": [],
   "source": [
    "mfti.insert(4, 'ПРГ2 факт', mfti.pop('ПРГ2 факт'))"
   ]
  },
  {
   "cell_type": "code",
   "execution_count": 94,
   "id": "711784fa-3b2c-49af-9c08-402ae707d966",
   "metadata": {},
   "outputs": [],
   "source": [
    "all_df[0] = mfti"
   ]
  },
  {
   "cell_type": "code",
   "execution_count": 95,
   "id": "98dc6da3-9ea6-4db0-ac8a-cc213f883399",
   "metadata": {},
   "outputs": [],
   "source": [
    "for df in all_df:\n",
    "    combined_universities = pd.concat([combined_universities, df])"
   ]
  },
  {
   "cell_type": "code",
   "execution_count": 97,
   "id": "95ce9966-2182-4f1a-bd8b-d62fb92b6908",
   "metadata": {},
   "outputs": [],
   "source": [
    "combined_universities['Год'] = combined_universities.index\n",
    "combined_universities = combined_universities.astype({'Год': 'int64'}).sort_values(['Год', 'Университет'])\n",
    "combined_universities['№'] = range(1, combined_universities.shape[0] + 1)"
   ]
  },
  {
   "cell_type": "code",
   "execution_count": 98,
   "id": "69c74f6c-e325-4606-b2d5-a9b25a9b038b",
   "metadata": {},
   "outputs": [],
   "source": [
    "# удаляю ненужные столбики по базовому треку\n",
    "combined_universities = pd.concat([combined_universities.iloc[:, :6], combined_universities.iloc[:, 51:]], axis=1)"
   ]
  },
  {
   "cell_type": "code",
   "execution_count": 99,
   "id": "b5290671-bd60-4c4b-8f53-459f901154aa",
   "metadata": {},
   "outputs": [],
   "source": [
    "for column_name in ['Год', 'Университет', '№']:\n",
    "    combined_universities.insert(0, column_name, combined_universities.pop(column_name))"
   ]
  },
  {
   "cell_type": "code",
   "execution_count": 101,
   "id": "c6846bfb-fd4d-46f9-8d80-b6c88002bd0f",
   "metadata": {},
   "outputs": [],
   "source": [
    "file_name = rf'C:/python_work/выгрузки/программа_2030/специальная_часть_{dt.date.today()}.xlsx'\n",
    "combined_universities.to_excel(file_name, sheet_name='Показатели', index=False)"
   ]
  }
 ],
 "metadata": {
  "kernelspec": {
   "display_name": "Python 3 (ipykernel)",
   "language": "python",
   "name": "python3"
  },
  "language_info": {
   "codemirror_mode": {
    "name": "ipython",
    "version": 3
   },
   "file_extension": ".py",
   "mimetype": "text/x-python",
   "name": "python",
   "nbconvert_exporter": "python",
   "pygments_lexer": "ipython3",
   "version": "3.12.0"
  }
 },
 "nbformat": 4,
 "nbformat_minor": 5
}
