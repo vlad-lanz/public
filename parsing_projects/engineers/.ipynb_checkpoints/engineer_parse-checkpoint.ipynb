{
 "cells": [
  {
   "cell_type": "code",
   "execution_count": 1,
   "id": "af766599-365b-4062-81ad-d0fd45edde19",
   "metadata": {},
   "outputs": [],
   "source": [
    "from selenium.webdriver import Firefox\n",
    "from selenium.webdriver.common.by import By\n",
    "from selenium.webdriver.common.keys import Keys\n",
    "from bs4 import BeautifulSoup\n",
    "import requests\n",
    "import pandas as pd\n",
    "from time import sleep\n",
    "import datetime as dt"
   ]
  },
  {
   "cell_type": "code",
   "execution_count": 2,
   "id": "1e0373f9-9d82-4581-8e56-9f59e0d2ebe2",
   "metadata": {},
   "outputs": [],
   "source": [
    "browser = Firefox()\n",
    "url = 'https://analytics.engineers2030.ru/schools'\n",
    "browser.get(url)\n",
    "sleep(10)\n",
    "\n",
    "soup = BeautifulSoup(browser.page_source, 'lxml')\n",
    "\n",
    "# в find_all список всех универов, из каждого достаю по href ссылке\n",
    "all_urls = [elem.get('href') for elem in soup.find_all('a', {'class': 'schools-list__item'})]"
   ]
  },
  {
   "cell_type": "code",
   "execution_count": 4,
   "id": "ea849a35-5a9a-4db9-a7fc-e116d12b08db",
   "metadata": {},
   "outputs": [],
   "source": [
    "final_df = pd.DataFrame()\n",
    "for url in all_urls[:2]:\n",
    "    university_url = f\"https://analytics.engineers2030.ru{url}development-program/indicators\"\n",
    "    browser.get(university_url)\n",
    "    sleep(10)\n",
    "    \n",
    "    if not browser.find_elements(By.TAG_NAME, 'button'):  # на случай, если страница не загрузится\n",
    "        continue\n",
    "    else:\n",
    "        for button in browser.find_elements(By.TAG_NAME, 'button')[1:]:  # раскрываю каждую кнопку\n",
    "            button.send_keys(Keys.ENTER)\n",
    "    \n",
    "        # всё раскрыто, наливаю суп\n",
    "        soup = BeautifulSoup(browser.page_source, 'lxml')\n",
    "    \n",
    "        university_name = soup.find('span', {'class': 'school-head__school-name'}).text  # имя универа\n",
    "    \n",
    "        university_df = pd.DataFrame({'Университет': [university_name for _ in range(9)], # это болванка, к которой справа будут присовокупляться все показатели\n",
    "                                      'Год': range(2022, 2031)})\n",
    "    \n",
    "        all_tables = soup.find_all('div', {'class': 'card__inner'})[1:]  # здесь все таблички\n",
    "    \n",
    "        for table in all_tables:\n",
    "            index_name = table.find_all('div')[0].text.strip()  # имя показателя\n",
    "            full_data = table.find_all('div')[-1].text.replace('\\xa0', '').replace(',', '.').split()  # по -1 индексу данные, убираю оттуда ненужные знаки\n",
    "            \n",
    "            years = [int(x) for x in full_data[2::2]]  # прохожу по нужным индексам, меняя тип данных\n",
    "            index_data = [float(x) for x in full_data[3::2]]\n",
    "            \n",
    "            data_df = pd.DataFrame({'Год': years,  # это общий df с данными, который будет распличен\n",
    "                                    'Данные': index_data})\n",
    "            \n",
    "            plan = data_df.iloc[:9].rename({'Данные': f'{index_name} (план)'}, axis=1)  # спличу на 2\n",
    "            fact = data_df.iloc[9:].rename({'Данные': f'{index_name} (факт)'}, axis=1)\n",
    "            combined = pd.merge(plan, fact, how='outer', on='Год').drop('Год', axis=1)  # и объединяю\n",
    "\n",
    "            combined[\"% выполнения\"] = (combined.iloc[:, 1] / combined.iloc[:, 0]) * 100\n",
    "            combined[\"% выполнения\"] = combined[\"% выполнения\"].apply(lambda x: 100.0 if x >= 100 else x)\n",
    "            combined.insert(0, \"% выполнения\", combined.pop(\"% выполнения\"))\n",
    "\n",
    "            combined = combined.fillna('Н/Д')\n",
    "            \n",
    "            university_df = pd.concat([university_df, combined], axis=1)  # затем уже конкатенирую с болванкой, которая наполняется\n",
    "    \n",
    "        final_df = pd.concat([final_df, university_df], axis=0)  # присоединяю к общей таблице"
   ]
  },
  {
   "cell_type": "code",
   "execution_count": null,
   "id": "f977529f-682b-4688-8507-3aa382448aa5",
   "metadata": {},
   "outputs": [],
   "source": [
    "final_df = final_df.sort_values(['Год', 'Университет'])"
   ]
  },
  {
   "cell_type": "code",
   "execution_count": null,
   "id": "cc17a944-50f8-4f96-aa17-39931f3139ae",
   "metadata": {},
   "outputs": [],
   "source": [
    "# Здесь расписать ранги"
   ]
  },
  {
   "cell_type": "code",
   "execution_count": 7,
   "id": "b18be05f-1695-4f6c-bf01-c867397d85c0",
   "metadata": {},
   "outputs": [],
   "source": [
    "# 1) сделать финальную заготовку\n",
    "# 2) делать срезы до конца таблицы с шагом в 3 колонки\n",
    "# 3) каждый срез группировать и внутри каждой группировки делать ранг"
   ]
  },
  {
   "cell_type": "code",
   "execution_count": null,
   "id": "da8778d1-f2d5-4c17-9e86-a7dd99ed1245",
   "metadata": {},
   "outputs": [],
   "source": []
  },
  {
   "cell_type": "code",
   "execution_count": null,
   "id": "78c8b83f-2f06-4225-b1cd-fe912ee53f33",
   "metadata": {},
   "outputs": [],
   "source": [
    "final_df['№'] = range(1, final_df.shape[0] + 1)\n",
    "final_df.insert(0, '№', final_df.pop('№'))"
   ]
  },
  {
   "cell_type": "code",
   "execution_count": 6,
   "id": "0eeb0a23-e9f0-420f-8015-c307ce739e8f",
   "metadata": {},
   "outputs": [],
   "source": [
    "file_name = rf'C:/python_work/выгрузки/пиш/пиш_{dt.date.today()}.xlsx'\n",
    "final_df.to_excel(file_name, index=False)"
   ]
  },
  {
   "cell_type": "code",
   "execution_count": null,
   "id": "b6de92d4-ad42-4a61-8e85-968ade1b56f5",
   "metadata": {},
   "outputs": [],
   "source": []
  }
 ],
 "metadata": {
  "kernelspec": {
   "display_name": "Python 3 (ipykernel)",
   "language": "python",
   "name": "python3"
  },
  "language_info": {
   "codemirror_mode": {
    "name": "ipython",
    "version": 3
   },
   "file_extension": ".py",
   "mimetype": "text/x-python",
   "name": "python",
   "nbconvert_exporter": "python",
   "pygments_lexer": "ipython3",
   "version": "3.12.0"
  }
 },
 "nbformat": 4,
 "nbformat_minor": 5
}
