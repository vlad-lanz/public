{
 "cells": [
  {
   "cell_type": "code",
   "execution_count": 2,
   "id": "d8b6de71-170a-48ef-8f3d-a46735f44139",
   "metadata": {},
   "outputs": [],
   "source": [
    "import requests"
   ]
  },
  {
   "cell_type": "code",
   "execution_count": null,
   "id": "22e8369b-710c-4fa7-8d8c-319081309916",
   "metadata": {},
   "outputs": [],
   "source": [
    "# тут лежат все slug\n",
    "api = 'https://api.socio.center/engineers/schools'"
   ]
  },
  {
   "cell_type": "code",
   "execution_count": null,
   "id": "9e2c15cc-37ac-4903-80ce-5dbe794b1861",
   "metadata": {},
   "outputs": [],
   "source": [
    "test = requests.post(api)"
   ]
  },
  {
   "cell_type": "code",
   "execution_count": null,
   "id": "a343824b-4c51-488d-b8b1-426e0418ecaf",
   "metadata": {},
   "outputs": [],
   "source": []
  },
  {
   "cell_type": "code",
   "execution_count": null,
   "id": "8e343cc9-15b0-4037-8aab-8aa29c9327c6",
   "metadata": {},
   "outputs": [],
   "source": []
  },
  {
   "cell_type": "code",
   "execution_count": 1,
   "id": "48a07dce-603b-4a0f-90ba-f8fc20ae3f1c",
   "metadata": {},
   "outputs": [
    {
     "ename": "NameError",
     "evalue": "name 'requests' is not defined",
     "output_type": "error",
     "traceback": [
      "\u001b[1;31m---------------------------------------------------------------------------\u001b[0m",
      "\u001b[1;31mNameError\u001b[0m                                 Traceback (most recent call last)",
      "Cell \u001b[1;32mIn[1], line 2\u001b[0m\n\u001b[0;32m      1\u001b[0m \u001b[38;5;66;03m# а вот такая ссылка для получения данных\u001b[39;00m\n\u001b[1;32m----> 2\u001b[0m needed \u001b[38;5;241m=\u001b[39m \u001b[43mrequests\u001b[49m\u001b[38;5;241m.\u001b[39mget(\u001b[38;5;124m'\u001b[39m\u001b[38;5;124mhttps://api.socio.center/engineers/school/\u001b[39m\u001b[38;5;132;01m{slug}\u001b[39;00m\u001b[38;5;124m/indicators\u001b[39m\u001b[38;5;124m'\u001b[39m)\n",
      "\u001b[1;31mNameError\u001b[0m: name 'requests' is not defined"
     ]
    }
   ],
   "source": [
    "# а вот такая ссылка для получения данных\n",
    "needed = requests.get('https://api.socio.center/engineers/school/{slug}/indicators')"
   ]
  },
  {
   "cell_type": "code",
   "execution_count": null,
   "id": "83b2e512-d588-4465-8256-bdbaf00485b2",
   "metadata": {},
   "outputs": [],
   "source": []
  }
 ],
 "metadata": {
  "kernelspec": {
   "display_name": "Python 3 (ipykernel)",
   "language": "python",
   "name": "python3"
  },
  "language_info": {
   "codemirror_mode": {
    "name": "ipython",
    "version": 3
   },
   "file_extension": ".py",
   "mimetype": "text/x-python",
   "name": "python",
   "nbconvert_exporter": "python",
   "pygments_lexer": "ipython3",
   "version": "3.12.0"
  }
 },
 "nbformat": 4,
 "nbformat_minor": 5
}
